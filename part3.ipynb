{
 "cells": [
  {
   "cell_type": "markdown",
   "id": "adverse-diploma",
   "metadata": {},
   "source": [
    "<font color='orange' size=6>Authorship, Manning Live Project, Section 3</font>  \n",
    "Mar 15, 2021\n",
    "<hr>"
   ]
  },
  {
   "cell_type": "markdown",
   "id": "swiss-stadium",
   "metadata": {},
   "source": [
    "Note:  starting with Notebook from 2, and modifying, paring down and then building up, since we need to use what was at the end of that"
   ]
  },
  {
   "cell_type": "markdown",
   "id": "french-physics",
   "metadata": {},
   "source": [
    "# Imports"
   ]
  },
  {
   "cell_type": "code",
   "execution_count": 222,
   "id": "outer-toronto",
   "metadata": {},
   "outputs": [],
   "source": [
    "import os\n",
    "import re\n",
    "from chardet.universaldetector import UniversalDetector\n",
    "import pickle\n",
    "import glob\n",
    "import chardet\n",
    "import pandas as pd\n",
    "import numpy as np\n",
    "from bs4 import BeautifulSoup as bs\n",
    "from typing import NamedTuple, List\n",
    "import random\n",
    "from matplotlib import pyplot as plt\n",
    "import seaborn as sns\n",
    "import time\n",
    "\n",
    "# from project 1; for application of that code below\n",
    "from sklearn.feature_extraction.text import TfidfVectorizer\n",
    "from sklearn.model_selection import train_test_split\n",
    "from sklearn.model_selection import KFold\n",
    "from sklearn.model_selection import cross_val_score\n",
    "from sklearn.pipeline import Pipeline\n",
    "from sklearn.naive_bayes import MultinomialNB\n",
    "from sklearn.linear_model import Perceptron\n",
    "from sklearn.linear_model import SGDClassifier\n",
    "from sklearn import metrics\n",
    "from sklearn.svm import SVC\n",
    "from sklearn.naive_bayes import BernoulliNB\n"
   ]
  },
  {
   "cell_type": "markdown",
   "id": "written-cheese",
   "metadata": {
    "heading_collapsed": true
   },
   "source": [
    "# Config including paths, globals, constants"
   ]
  },
  {
   "cell_type": "code",
   "execution_count": 2,
   "id": "looking-measurement",
   "metadata": {
    "hidden": true
   },
   "outputs": [
    {
     "data": {
      "text/plain": [
       "'/Users/bradgreenwald/projects/manning/Author_ID_Live_Project'"
      ]
     },
     "execution_count": 2,
     "metadata": {},
     "output_type": "execute_result"
    }
   ],
   "source": [
    "# check current working dir and create dir for files\n",
    "cur_dir = os.getcwd()\n",
    "cur_dir"
   ]
  },
  {
   "cell_type": "code",
   "execution_count": 3,
   "id": "fossil-preliminary",
   "metadata": {
    "hidden": true
   },
   "outputs": [
    {
     "data": {
      "text/plain": [
       "'/Users/bradgreenwald/projects/manning/Author_ID_Live_Project/data/blogs'"
      ]
     },
     "execution_count": 3,
     "metadata": {},
     "output_type": "execute_result"
    }
   ],
   "source": [
    "# path to directory containing xml files with blogs\n",
    "xml_path = os.path.join(os.getcwd(), 'data', 'blogs')\n",
    "xml_path"
   ]
  },
  {
   "cell_type": "code",
   "execution_count": 4,
   "id": "intermediate-farming",
   "metadata": {
    "hidden": true
   },
   "outputs": [
    {
     "data": {
      "text/plain": [
       "19320"
      ]
     },
     "execution_count": 4,
     "metadata": {},
     "output_type": "execute_result"
    }
   ],
   "source": [
    "# create list of xml_files, recalling that mac creates files in the folder\n",
    "xml_filenames = [fname for fname in os.listdir(xml_path) if fname.endswith('xml')]\n",
    "len(xml_filenames)"
   ]
  },
  {
   "cell_type": "code",
   "execution_count": 77,
   "id": "intellectual-sodium",
   "metadata": {
    "hidden": true
   },
   "outputs": [],
   "source": [
    "%config InlineBackend.figure_format = 'retina'\n",
    "sns.set()"
   ]
  },
  {
   "cell_type": "markdown",
   "id": "classified-optimum",
   "metadata": {
    "heading_collapsed": true
   },
   "source": [
    "# Helper Classes, Functions; also Hoisted Functions"
   ]
  },
  {
   "cell_type": "code",
   "execution_count": 5,
   "id": "coated-shore",
   "metadata": {
    "hidden": true
   },
   "outputs": [],
   "source": [
    "dirp = lambda x: [d for d in dir(x) if not d.startswith('_')]\n",
    "from pprint import pprint as pp"
   ]
  },
  {
   "cell_type": "markdown",
   "id": "solid-hartford",
   "metadata": {
    "heading_collapsed": true
   },
   "source": [
    "# Pickled data"
   ]
  },
  {
   "cell_type": "code",
   "execution_count": 6,
   "id": "right-invalid",
   "metadata": {
    "hidden": true
   },
   "outputs": [],
   "source": [
    "# xml files byte content in dict keyed by filename\n",
    "with open(os.path.join(os.getcwd(), 'data', 'xml_files.pickle'), 'rb') as fh:\n",
    "    xml_files = pickle.load(fh)"
   ]
  },
  {
   "cell_type": "code",
   "execution_count": 7,
   "id": "fewer-vector",
   "metadata": {
    "hidden": true
   },
   "outputs": [],
   "source": [
    "# decoded text dataframe with filenames\n",
    "with open(os.path.join(cur_dir, 'data', 'df_txt.pickle'), 'rb') as fh:\n",
    "    df_txt = pickle.load(fh)"
   ]
  },
  {
   "cell_type": "code",
   "execution_count": 8,
   "id": "original-suspension",
   "metadata": {
    "hidden": true
   },
   "outputs": [
    {
     "data": {
      "text/html": [
       "<div>\n",
       "<style scoped>\n",
       "    .dataframe tbody tr th:only-of-type {\n",
       "        vertical-align: middle;\n",
       "    }\n",
       "\n",
       "    .dataframe tbody tr th {\n",
       "        vertical-align: top;\n",
       "    }\n",
       "\n",
       "    .dataframe thead th {\n",
       "        text-align: right;\n",
       "    }\n",
       "</style>\n",
       "<table border=\"1\" class=\"dataframe\">\n",
       "  <thead>\n",
       "    <tr style=\"text-align: right;\">\n",
       "      <th></th>\n",
       "      <th>txt</th>\n",
       "      <th>fnames</th>\n",
       "    </tr>\n",
       "  </thead>\n",
       "  <tbody>\n",
       "    <tr>\n",
       "      <th>3361</th>\n",
       "      <td>&lt;Blog&gt;\\r\\n\\r\\n&lt;date&gt;16,February,2004&lt;/date&gt;\\r\\...</td>\n",
       "      <td>1233897.male.17.Technology.Virgo.xml</td>\n",
       "    </tr>\n",
       "  </tbody>\n",
       "</table>\n",
       "</div>"
      ],
      "text/plain": [
       "                                                    txt  \\\n",
       "3361  <Blog>\\r\\n\\r\\n<date>16,February,2004</date>\\r\\...   \n",
       "\n",
       "                                    fnames  \n",
       "3361  1233897.male.17.Technology.Virgo.xml  "
      ]
     },
     "execution_count": 8,
     "metadata": {},
     "output_type": "execute_result"
    }
   ],
   "source": [
    "df_txt.sample()"
   ]
  },
  {
   "cell_type": "code",
   "execution_count": 9,
   "id": "educated-happening",
   "metadata": {
    "hidden": true
   },
   "outputs": [],
   "source": [
    "# cleaned post processed posts with metadata\n",
    "with open(os.path.join(cur_dir, 'data', 'df_allclean.pickle'), 'rb') as fh:\n",
    "    df_allposts = pickle.load(fh)"
   ]
  },
  {
   "cell_type": "code",
   "execution_count": 11,
   "id": "comic-precipitation",
   "metadata": {
    "hidden": true
   },
   "outputs": [
    {
     "data": {
      "text/html": [
       "<div>\n",
       "<style scoped>\n",
       "    .dataframe tbody tr th:only-of-type {\n",
       "        vertical-align: middle;\n",
       "    }\n",
       "\n",
       "    .dataframe tbody tr th {\n",
       "        vertical-align: top;\n",
       "    }\n",
       "\n",
       "    .dataframe thead th {\n",
       "        text-align: right;\n",
       "    }\n",
       "</style>\n",
       "<table border=\"1\" class=\"dataframe\">\n",
       "  <thead>\n",
       "    <tr style=\"text-align: right;\">\n",
       "      <th></th>\n",
       "      <th>auth_id</th>\n",
       "      <th>gender</th>\n",
       "      <th>age</th>\n",
       "      <th>industry</th>\n",
       "      <th>star_sign</th>\n",
       "      <th>post</th>\n",
       "      <th>clean</th>\n",
       "    </tr>\n",
       "  </thead>\n",
       "  <tbody>\n",
       "    <tr>\n",
       "      <th>303982</th>\n",
       "      <td>2931757</td>\n",
       "      <td>female</td>\n",
       "      <td>13</td>\n",
       "      <td>Arts</td>\n",
       "      <td>Sagittarius</td>\n",
       "      <td>\\n\\n\\t \\n      well, I have found out how to d...</td>\n",
       "      <td>well, I have found out how to do many things ...</td>\n",
       "    </tr>\n",
       "  </tbody>\n",
       "</table>\n",
       "</div>"
      ],
      "text/plain": [
       "        auth_id  gender age industry    star_sign  \\\n",
       "303982  2931757  female  13     Arts  Sagittarius   \n",
       "\n",
       "                                                     post  \\\n",
       "303982  \\n\\n\\t \\n      well, I have found out how to d...   \n",
       "\n",
       "                                                    clean  \n",
       "303982   well, I have found out how to do many things ...  "
      ]
     },
     "execution_count": 11,
     "metadata": {},
     "output_type": "execute_result"
    }
   ],
   "source": [
    "df_allposts.sample()"
   ]
  },
  {
   "cell_type": "markdown",
   "id": "loving-knife",
   "metadata": {},
   "source": [
    "# From end of part 2; applying code to cleaned posts"
   ]
  },
  {
   "cell_type": "markdown",
   "id": "surface-savannah",
   "metadata": {},
   "source": [
    "- Using the list of authors from part 1, get all their posts\n",
    "- sample 10 for each author (from the solution template)\n",
    "- create train-test split in portion of dataset (some columns)\n",
    "- create pipeline\n",
    "- apply pipeline"
   ]
  },
  {
   "cell_type": "code",
   "execution_count": 12,
   "id": "involved-christian",
   "metadata": {
    "collapsed": true
   },
   "outputs": [
    {
     "name": "stdout",
     "output_type": "stream",
     "text": [
      "<class 'pandas.core.frame.DataFrame'>\n",
      "RangeIndex: 658805 entries, 0 to 658804\n",
      "Data columns (total 7 columns):\n",
      " #   Column     Non-Null Count   Dtype \n",
      "---  ------     --------------   ----- \n",
      " 0   auth_id    658805 non-null  object\n",
      " 1   gender     658805 non-null  object\n",
      " 2   age        658805 non-null  object\n",
      " 3   industry   658805 non-null  object\n",
      " 4   star_sign  658805 non-null  object\n",
      " 5   post       658805 non-null  object\n",
      " 6   clean      658805 non-null  object\n",
      "dtypes: object(7)\n",
      "memory usage: 35.2+ MB\n"
     ]
    }
   ],
   "source": [
    "df_allposts.info()"
   ]
  },
  {
   "cell_type": "code",
   "execution_count": 13,
   "id": "express-rover",
   "metadata": {},
   "outputs": [],
   "source": [
    "# cast auth_id and age as ints\n",
    "df_allposts['auth_id'] = df_allposts['auth_id'].astype(int)\n",
    "df_allposts['age'] = df_allposts['age'].astype(int)"
   ]
  },
  {
   "cell_type": "markdown",
   "id": "cooperative-mortgage",
   "metadata": {
    "heading_collapsed": true
   },
   "source": [
    "## Test and tune the process for the original set of authors"
   ]
  },
  {
   "cell_type": "code",
   "execution_count": 14,
   "id": "favorite-springfield",
   "metadata": {
    "hidden": true
   },
   "outputs": [],
   "source": [
    "authors = [3574878, 2845196, 3444474, 3445677, 828046, \n",
    "                       4284264, 3498812, 4137740, 3662461, 3363271]"
   ]
  },
  {
   "cell_type": "markdown",
   "id": "desirable-islam",
   "metadata": {
    "hidden": true
   },
   "source": [
    "From testing below:  f1: .7523"
   ]
  },
  {
   "cell_type": "code",
   "execution_count": 15,
   "id": "closed-dictionary",
   "metadata": {
    "hidden": true
   },
   "outputs": [],
   "source": [
    "auth10_posts = df_allposts[df_allposts['auth_id'].isin(authors)]"
   ]
  },
  {
   "cell_type": "code",
   "execution_count": 16,
   "id": "distinct-smart",
   "metadata": {
    "hidden": true
   },
   "outputs": [
    {
     "data": {
      "text/plain": [
       "(153, 7)"
      ]
     },
     "execution_count": 16,
     "metadata": {},
     "output_type": "execute_result"
    }
   ],
   "source": [
    "auth10_posts.shape"
   ]
  },
  {
   "cell_type": "code",
   "execution_count": 17,
   "id": "driving-liquid",
   "metadata": {
    "collapsed": true,
    "hidden": true
   },
   "outputs": [
    {
     "data": {
      "text/html": [
       "<div>\n",
       "<style scoped>\n",
       "    .dataframe tbody tr th:only-of-type {\n",
       "        vertical-align: middle;\n",
       "    }\n",
       "\n",
       "    .dataframe tbody tr th {\n",
       "        vertical-align: top;\n",
       "    }\n",
       "\n",
       "    .dataframe thead th {\n",
       "        text-align: right;\n",
       "    }\n",
       "</style>\n",
       "<table border=\"1\" class=\"dataframe\">\n",
       "  <thead>\n",
       "    <tr style=\"text-align: right;\">\n",
       "      <th></th>\n",
       "      <th>auth_id</th>\n",
       "      <th>gender</th>\n",
       "      <th>age</th>\n",
       "      <th>industry</th>\n",
       "      <th>star_sign</th>\n",
       "      <th>post</th>\n",
       "      <th>clean</th>\n",
       "    </tr>\n",
       "  </thead>\n",
       "  <tbody>\n",
       "    <tr>\n",
       "      <th>91099</th>\n",
       "      <td>3444474</td>\n",
       "      <td>female</td>\n",
       "      <td>17</td>\n",
       "      <td>Student</td>\n",
       "      <td>Sagittarius</td>\n",
       "      <td>\\n\\n     \\n      I got a pedicure, my nails ar...</td>\n",
       "      <td>I got a pedicure, my nails are pink! :D I mig...</td>\n",
       "    </tr>\n",
       "    <tr>\n",
       "      <th>91075</th>\n",
       "      <td>3444474</td>\n",
       "      <td>female</td>\n",
       "      <td>17</td>\n",
       "      <td>Student</td>\n",
       "      <td>Sagittarius</td>\n",
       "      <td>\\n\\n     \\n      Went to a party tonight, that...</td>\n",
       "      <td>Went to a party tonight, that was cool. It wa...</td>\n",
       "    </tr>\n",
       "    <tr>\n",
       "      <th>568705</th>\n",
       "      <td>828046</td>\n",
       "      <td>male</td>\n",
       "      <td>25</td>\n",
       "      <td>Arts</td>\n",
       "      <td>Gemini</td>\n",
       "      <td>\\n\\n\\t \\n      Those who are the least concern...</td>\n",
       "      <td>Those who are the least concerned with the ha...</td>\n",
       "    </tr>\n",
       "    <tr>\n",
       "      <th>91107</th>\n",
       "      <td>3444474</td>\n",
       "      <td>female</td>\n",
       "      <td>17</td>\n",
       "      <td>Student</td>\n",
       "      <td>Sagittarius</td>\n",
       "      <td>\\n\\n     \\n      I think I'm going to see Catw...</td>\n",
       "      <td>I think I'm going to see Catwoman later with ...</td>\n",
       "    </tr>\n",
       "    <tr>\n",
       "      <th>91142</th>\n",
       "      <td>3444474</td>\n",
       "      <td>female</td>\n",
       "      <td>17</td>\n",
       "      <td>Student</td>\n",
       "      <td>Sagittarius</td>\n",
       "      <td>\\n\\n     \\n      Yeah ok, so I was late leavin...</td>\n",
       "      <td>Yeah ok, so I was late leaving my house, and ...</td>\n",
       "    </tr>\n",
       "    <tr>\n",
       "      <th>91125</th>\n",
       "      <td>3444474</td>\n",
       "      <td>female</td>\n",
       "      <td>17</td>\n",
       "      <td>Student</td>\n",
       "      <td>Sagittarius</td>\n",
       "      <td>\\n\\n     \\n      Holy crap,  Pride and Prejudi...</td>\n",
       "      <td>Holy crap, Pride and Prejudice was fucking. a...</td>\n",
       "    </tr>\n",
       "    <tr>\n",
       "      <th>91134</th>\n",
       "      <td>3444474</td>\n",
       "      <td>female</td>\n",
       "      <td>17</td>\n",
       "      <td>Student</td>\n",
       "      <td>Sagittarius</td>\n",
       "      <td>\\n\\n     \\n      Saw the Bourne Supremacy, it ...</td>\n",
       "      <td>Saw the Bourne Supremacy, it rocked my socks ...</td>\n",
       "    </tr>\n",
       "    <tr>\n",
       "      <th>91128</th>\n",
       "      <td>3444474</td>\n",
       "      <td>female</td>\n",
       "      <td>17</td>\n",
       "      <td>Student</td>\n",
       "      <td>Sagittarius</td>\n",
       "      <td>\\n\\n     \\n      Aaah, after lunch, when I onl...</td>\n",
       "      <td>Aaah, after lunch, when I only have two more ...</td>\n",
       "    </tr>\n",
       "    <tr>\n",
       "      <th>91087</th>\n",
       "      <td>3444474</td>\n",
       "      <td>female</td>\n",
       "      <td>17</td>\n",
       "      <td>Student</td>\n",
       "      <td>Sagittarius</td>\n",
       "      <td>\\n\\n     \\n      I'm swimming in this desire, ...</td>\n",
       "      <td>I'm swimming in this desire, my head is falli...</td>\n",
       "    </tr>\n",
       "    <tr>\n",
       "      <th>91070</th>\n",
       "      <td>3444474</td>\n",
       "      <td>female</td>\n",
       "      <td>17</td>\n",
       "      <td>Student</td>\n",
       "      <td>Sagittarius</td>\n",
       "      <td>\\n\\n     \\n      //rocks out to my favorite  I...</td>\n",
       "      <td>//rocks out to my favorite Injected song. :ro...</td>\n",
       "    </tr>\n",
       "  </tbody>\n",
       "</table>\n",
       "</div>"
      ],
      "text/plain": [
       "        auth_id  gender  age industry    star_sign  \\\n",
       "91099   3444474  female   17  Student  Sagittarius   \n",
       "91075   3444474  female   17  Student  Sagittarius   \n",
       "568705   828046    male   25     Arts       Gemini   \n",
       "91107   3444474  female   17  Student  Sagittarius   \n",
       "91142   3444474  female   17  Student  Sagittarius   \n",
       "91125   3444474  female   17  Student  Sagittarius   \n",
       "91134   3444474  female   17  Student  Sagittarius   \n",
       "91128   3444474  female   17  Student  Sagittarius   \n",
       "91087   3444474  female   17  Student  Sagittarius   \n",
       "91070   3444474  female   17  Student  Sagittarius   \n",
       "\n",
       "                                                     post  \\\n",
       "91099   \\n\\n     \\n      I got a pedicure, my nails ar...   \n",
       "91075   \\n\\n     \\n      Went to a party tonight, that...   \n",
       "568705  \\n\\n\\t \\n      Those who are the least concern...   \n",
       "91107   \\n\\n     \\n      I think I'm going to see Catw...   \n",
       "91142   \\n\\n     \\n      Yeah ok, so I was late leavin...   \n",
       "91125   \\n\\n     \\n      Holy crap,  Pride and Prejudi...   \n",
       "91134   \\n\\n     \\n      Saw the Bourne Supremacy, it ...   \n",
       "91128   \\n\\n     \\n      Aaah, after lunch, when I onl...   \n",
       "91087   \\n\\n     \\n      I'm swimming in this desire, ...   \n",
       "91070   \\n\\n     \\n      //rocks out to my favorite  I...   \n",
       "\n",
       "                                                    clean  \n",
       "91099    I got a pedicure, my nails are pink! :D I mig...  \n",
       "91075    Went to a party tonight, that was cool. It wa...  \n",
       "568705   Those who are the least concerned with the ha...  \n",
       "91107    I think I'm going to see Catwoman later with ...  \n",
       "91142    Yeah ok, so I was late leaving my house, and ...  \n",
       "91125    Holy crap, Pride and Prejudice was fucking. a...  \n",
       "91134    Saw the Bourne Supremacy, it rocked my socks ...  \n",
       "91128    Aaah, after lunch, when I only have two more ...  \n",
       "91087    I'm swimming in this desire, my head is falli...  \n",
       "91070    //rocks out to my favorite Injected song. :ro...  "
      ]
     },
     "execution_count": 17,
     "metadata": {},
     "output_type": "execute_result"
    }
   ],
   "source": [
    "auth10_posts.sample(10)"
   ]
  },
  {
   "cell_type": "markdown",
   "id": "patent-sculpture",
   "metadata": {
    "hidden": true
   },
   "source": [
    "- Highly Imbalanced"
   ]
  },
  {
   "cell_type": "code",
   "execution_count": 25,
   "id": "surface-convertible",
   "metadata": {
    "hidden": true
   },
   "outputs": [],
   "source": [
    "all_data = auth10_posts['clean']\n",
    "all_labels = auth10_posts['auth_id']"
   ]
  },
  {
   "cell_type": "markdown",
   "id": "alike-complex",
   "metadata": {},
   "source": [
    "## Recreating a few pipelines with diff models"
   ]
  },
  {
   "cell_type": "code",
   "execution_count": 231,
   "id": "consolidated-selection",
   "metadata": {},
   "outputs": [],
   "source": [
    "model_types = [SVC(kernel='rbf'), SVC(kernel='linear'), BernoulliNB]\n",
    "model_names = ['svc_rbf', 'svc_lin', 'bernoulli']"
   ]
  },
  {
   "cell_type": "code",
   "execution_count": 18,
   "id": "humanitarian-strand",
   "metadata": {},
   "outputs": [],
   "source": [
    "# Setting random_state because otherwise the f1 scores continually change\n",
    "auth_clf1 = Pipeline([\n",
    "    ('vect', TfidfVectorizer(ngram_range=(1, 5), analyzer='char', use_idf='false')),\n",
    "    ('clf', SGDClassifier(loss='hinge', penalty='l2',\n",
    "                         alpha=1e-3, random_state=42,\n",
    "                         max_iter=5, tol=None)),\n",
    "])"
   ]
  },
  {
   "cell_type": "code",
   "execution_count": 19,
   "id": "miniature-solomon",
   "metadata": {},
   "outputs": [],
   "source": [
    "# Pipeline using SGD with default hyperparameters\n",
    "auth_clf2 = Pipeline([\n",
    "    ('vect', TfidfVectorizer(ngram_range=(1, 5), analyzer='char', use_idf='true')),\n",
    "    ('clf', SGDClassifier(random_state=42)),\n",
    "])"
   ]
  },
  {
   "cell_type": "code",
   "execution_count": 20,
   "id": "useful-kennedy",
   "metadata": {},
   "outputs": [],
   "source": [
    "# Pipeline using diff ngram range\n",
    "auth_clf3 = Pipeline([\n",
    "    ('vect', TfidfVectorizer(ngram_range=(1, 4), analyzer='char', use_idf='false')),\n",
    "    ('clf', SGDClassifier(random_state=42)),\n",
    "])"
   ]
  },
  {
   "cell_type": "code",
   "execution_count": 226,
   "id": "adolescent-found",
   "metadata": {},
   "outputs": [],
   "source": [
    "# Pipeline allowing for diff clfs\n",
    "def build_pipeline(model):\n",
    "    auth_clf = Pipeline([\n",
    "        ('vect', TfidfVectorizer(ngram_range=(1, 4), analyzer='char', use_idf='false')),\n",
    "        ('clf', model),\n",
    "    ])\n",
    "    return auth_clf"
   ]
  },
  {
   "cell_type": "markdown",
   "id": "speaking-electronics",
   "metadata": {
    "heading_collapsed": true
   },
   "source": [
    "## Func to create train/test split, train model, test and eval model"
   ]
  },
  {
   "cell_type": "code",
   "execution_count": 21,
   "id": "internal-swaziland",
   "metadata": {
    "hidden": true
   },
   "outputs": [],
   "source": [
    "def pipeline_to_f1_scores(samples, clfs):\n",
    "    \"\"\"Train and test model clfs on the data diff_samples; print f1 score, confusion matrix, and classification\n",
    "    report.  \n",
    "    \n",
    "        Args:  \n",
    "            diff_samples: pd.DataFrame with at least 'auth_id' and 'post' columns\n",
    "            clfs: sklearn model; can be just model, or a pipeline\n",
    "        \n",
    "        Return: f1-score\n",
    "    \"\"\"\n",
    "    print(f'{len(samples) = }')\n",
    "    \n",
    "    data = samples['clean'].values\n",
    "    labels = samples['auth_id'].values\n",
    "    \n",
    "    # Stratifying because of of widespread class imbalance\n",
    "    df_auth_train, df_auth_test, labels_train, labels_test = train_test_split(data, labels, \n",
    "                                                                          test_size=0.4, random_state=42, stratify=labels)\n",
    "    # Train model and get predictions\n",
    "    clfs.fit(df_auth_train, labels_train)\n",
    "    preds = clfs.predict(df_auth_test)\n",
    "    \n",
    "    # calculate the f1-scores\n",
    "    f1 = metrics.f1_score(labels_test, preds, average='weighted', zero_division=1)\n",
    "    \n",
    "    # print results\n",
    "    print(f'f-scores')\n",
    "    print(f'\\tWeighted f1: {f1:.4}\\n')\n",
    "    \n",
    "    # Confusion matrix and classification report are useful to see if mistakes are following pattern\n",
    "    print(metrics.confusion_matrix(labels_test, preds))\n",
    "    \n",
    "    # classification report is useful to see support\n",
    "    print(metrics.classification_report(labels_test, preds, zero_division=1))\n",
    "    \n",
    "    return f1"
   ]
  },
  {
   "cell_type": "code",
   "execution_count": 22,
   "id": "political-vatican",
   "metadata": {
    "hidden": true
   },
   "outputs": [
    {
     "name": "stdout",
     "output_type": "stream",
     "text": [
      "len(samples) = 153\n",
      "f-scores\n",
      "\tWeighted f1: 0.7435\n",
      "\n",
      "[[ 1  0  0  2  0  2  0  0  0  0]\n",
      " [ 0  5  0  0  0  0  0  0  0  0]\n",
      " [ 0  0  2  0  0  0  0  0  0  0]\n",
      " [ 0  0  0 33  0  0  0  0  0  0]\n",
      " [ 0  0  0  0  1  1  0  0  0  0]\n",
      " [ 0  0  0  3  0  0  0  0  0  1]\n",
      " [ 0  0  0  1  0  0  5  0  0  0]\n",
      " [ 0  0  0  2  0  0  0  0  0  0]\n",
      " [ 0  0  0  1  0  0  0  0  0  0]\n",
      " [ 0  0  0  0  0  0  0  0  0  2]]\n",
      "              precision    recall  f1-score   support\n",
      "\n",
      "      828046       1.00      0.20      0.33         5\n",
      "     2845196       1.00      1.00      1.00         5\n",
      "     3363271       1.00      1.00      1.00         2\n",
      "     3444474       0.79      1.00      0.88        33\n",
      "     3445677       1.00      0.50      0.67         2\n",
      "     3498812       0.00      0.00      0.00         4\n",
      "     3574878       1.00      0.83      0.91         6\n",
      "     3662461       1.00      0.00      0.00         2\n",
      "     4137740       1.00      0.00      0.00         1\n",
      "     4284264       0.67      1.00      0.80         2\n",
      "\n",
      "    accuracy                           0.79        62\n",
      "   macro avg       0.85      0.55      0.56        62\n",
      "weighted avg       0.81      0.79      0.74        62\n",
      "\n"
     ]
    }
   ],
   "source": [
    "# Testing on 10\n",
    "f1_score = pipeline_to_f1_scores(auth10_posts, auth_clf3)"
   ]
  },
  {
   "cell_type": "markdown",
   "id": "internal-tobago",
   "metadata": {
    "hidden": true
   },
   "source": [
    "I think **weighted** f1 is best score, because it accounts for class imbalances and classes with zero samples \n",
    "- Also consider laplacian smoothing - adding one to the numerator and denominator"
   ]
  },
  {
   "cell_type": "code",
   "execution_count": 249,
   "id": "functioning-christopher",
   "metadata": {
    "hidden": true
   },
   "outputs": [
    {
     "data": {
      "text/plain": [
       "0.7532626307261746"
      ]
     },
     "execution_count": 249,
     "metadata": {},
     "output_type": "execute_result"
    }
   ],
   "source": [
    "f1_score"
   ]
  },
  {
   "cell_type": "code",
   "execution_count": 228,
   "id": "wooden-demonstration",
   "metadata": {
    "collapsed": true,
    "hidden": true
   },
   "outputs": [
    {
     "data": {
      "text/plain": [
       "<function sklearn.metrics._classification.f1_score(y_true, y_pred, *, labels=None, pos_label=1, average='binary', sample_weight=None, zero_division='warn')>"
      ]
     },
     "execution_count": 228,
     "metadata": {},
     "output_type": "execute_result"
    }
   ],
   "source": [
    "# placeholder cell to get help with shift-tab\n",
    "metrics.confusion_matrix\n",
    "metrics.f1_score"
   ]
  },
  {
   "cell_type": "markdown",
   "id": "sophisticated-concept",
   "metadata": {
    "hidden": true
   },
   "source": [
    "Q:  Why does the confusion matrix not include 153 entries? \n",
    "- The number discrepancy:  because of the test/train split. The test is only 30% of 153, which is 51. "
   ]
  },
  {
   "cell_type": "markdown",
   "id": "tracked-bunny",
   "metadata": {},
   "source": [
    "# Start Experimenting with diff sets of authors"
   ]
  },
  {
   "cell_type": "markdown",
   "id": "graduate-bracelet",
   "metadata": {},
   "source": [
    "Consider the timing here.  for less than 200 posts, a bit less than 1 second. (well 70% of that bc of train test split)\n",
    "So 1000 posts would be one second, and 5000 posts would be 5 seconds? "
   ]
  },
  {
   "cell_type": "markdown",
   "id": "altered-kelly",
   "metadata": {},
   "source": [
    "## Duplicating function without print statements"
   ]
  },
  {
   "cell_type": "code",
   "execution_count": 235,
   "id": "altered-algeria",
   "metadata": {},
   "outputs": [],
   "source": [
    "def pipeline_to_f1_scores(samples, clfs, cross_val=False):\n",
    "    \"\"\"Train and test model clfs on the data diff_samples; print f1 score, confusion matrix, and classification\n",
    "    report.  \n",
    "    \n",
    "        Args:  \n",
    "            samples: pd.DataFrame with at least 'auth_id' and 'post' columns\n",
    "            clfs: sklearn model; can be just model, or a pipeline\n",
    "        \n",
    "        Return: f1-score\n",
    "    \"\"\"    \n",
    "    data = samples['clean'].values\n",
    "    labels = samples['auth_id'].values\n",
    "    \n",
    "    \n",
    "    if cross_val:\n",
    "        # cross val code\n",
    "        f1_scores = cross_val_score(clfs, data, labels, cv=3)\n",
    "        return f1_scores\n",
    "    else:\n",
    "        # Stratifying because of of widespread class imbalance\n",
    "        df_auth_train, df_auth_test, labels_train, labels_test = train_test_split(data, labels, \n",
    "                                                                              test_size=0.4, random_state=42, stratify=labels)\n",
    "        # Train model and get predictions\n",
    "        clfs.fit(df_auth_train, labels_train)\n",
    "        preds = clfs.predict(df_auth_test)\n",
    "\n",
    "        # calculate the f1-scores\n",
    "        f1 = metrics.f1_score(labels_test, preds, average='weighted', zero_division=1)\n",
    "    \n",
    "        return f1"
   ]
  },
  {
   "cell_type": "code",
   "execution_count": 235,
   "id": "accurate-belarus",
   "metadata": {},
   "outputs": [],
   "source": [
    "def pipeline_to_f1_scores(samples, clfs, cross_val=False):\n",
    "    \"\"\"Train and test model clfs on the data diff_samples; print f1 score, confusion matrix, and classification\n",
    "    report.  \n",
    "    \n",
    "        Args:  \n",
    "            samples: pd.DataFrame with at least 'auth_id' and 'post' columns\n",
    "            clfs: sklearn model; can be just model, or a pipeline\n",
    "        \n",
    "        Return: f1-score\n",
    "    \"\"\"    \n",
    "    data = samples['clean'].values\n",
    "    labels = samples['auth_id'].values\n",
    "    \n",
    "    \n",
    "    if cross_val:\n",
    "        # cross val code\n",
    "        f1_scores = cross_val_score(clfs, data, labels, cv=3)\n",
    "        return f1_scores\n",
    "    else:\n",
    "        # Stratifying because of of widespread class imbalance\n",
    "        df_auth_train, df_auth_test, labels_train, labels_test = train_test_split(data, labels, \n",
    "                                                                              test_size=0.4, random_state=42, stratify=labels)\n",
    "        # Train model and get predictions\n",
    "        clfs.fit(df_auth_train, labels_train)\n",
    "        preds = clfs.predict(df_auth_test)\n",
    "\n",
    "        # calculate the f1-scores\n",
    "        f1 = metrics.f1_score(labels_test, preds, average='weighted', zero_division=1)\n",
    "    \n",
    "        return f1"
   ]
  },
  {
   "cell_type": "code",
   "execution_count": 199,
   "id": "applicable-button",
   "metadata": {},
   "outputs": [],
   "source": [
    "# Pipeline using diff ngram range\n",
    "auth_clf3 = Pipeline([\n",
    "    ('vect', TfidfVectorizer(ngram_range=(1, 4), analyzer='char', use_idf='false')),\n",
    "    ('clf', SGDClassifier(random_state=42)),\n",
    "])"
   ]
  },
  {
   "cell_type": "markdown",
   "id": "municipal-finland",
   "metadata": {},
   "source": [
    "## Prepare set of author_ids for random sampling"
   ]
  },
  {
   "cell_type": "code",
   "execution_count": 23,
   "id": "included-angel",
   "metadata": {},
   "outputs": [
    {
     "data": {
      "text/plain": [
       "19320"
      ]
     },
     "execution_count": 23,
     "metadata": {},
     "output_type": "execute_result"
    }
   ],
   "source": [
    "auth_ids = df_allposts['auth_id'].value_counts().index.tolist()\n",
    "len(auth_ids)"
   ]
  },
  {
   "cell_type": "code",
   "execution_count": 24,
   "id": "abstract-kitchen",
   "metadata": {},
   "outputs": [
    {
     "name": "stdout",
     "output_type": "stream",
     "text": [
      "<class 'pandas.core.frame.DataFrame'>\n",
      "RangeIndex: 658805 entries, 0 to 658804\n",
      "Data columns (total 2 columns):\n",
      " #   Column   Non-Null Count   Dtype \n",
      "---  ------   --------------   ----- \n",
      " 0   auth_id  658805 non-null  int64 \n",
      " 1   clean    658805 non-null  object\n",
      "dtypes: int64(1), object(1)\n",
      "memory usage: 10.1+ MB\n"
     ]
    }
   ],
   "source": [
    "# Create Dataframe with only needed columns\n",
    "df_data = df_allposts[['auth_id', 'clean']]\n",
    "df_data.info()"
   ]
  },
  {
   "cell_type": "code",
   "execution_count": 25,
   "id": "available-indianapolis",
   "metadata": {},
   "outputs": [],
   "source": [
    "# dict to hold f1 scores (and sample sizes) for author sets by size (e.g. 20, 30, 40)\n",
    "f1_dict = dict()"
   ]
  },
  {
   "cell_type": "code",
   "execution_count": 229,
   "id": "apparent-failure",
   "metadata": {},
   "outputs": [],
   "source": [
    "# dict for diff models\n",
    "f_model_dict = dict()"
   ]
  },
  {
   "cell_type": "code",
   "execution_count": 30,
   "id": "excess-europe",
   "metadata": {},
   "outputs": [],
   "source": [
    "# Lets set size of random set and add to dict for collecting f1-scores\n",
    "n = 10\n",
    "if n not in f1_dict:\n",
    "    f1_dict[n] = []"
   ]
  },
  {
   "cell_type": "markdown",
   "id": "recorded-orientation",
   "metadata": {},
   "source": [
    "- PROBLEM:  Single post authors mess up train-test split"
   ]
  },
  {
   "cell_type": "markdown",
   "id": "brazilian-fitting",
   "metadata": {},
   "source": [
    "Need to make sure that there are at least 2 samples per author.  Or maybe if there is only one, we can split it in middle?  \n",
    "We'll try it to see if it works\n",
    "Or, we could just duplicate the post? That's be much easier"
   ]
  },
  {
   "cell_type": "code",
   "execution_count": 200,
   "id": "bearing-generator",
   "metadata": {},
   "outputs": [],
   "source": [
    "# replace all 1 post authors\n",
    "def replace_1posters(auths_rand):\n",
    "    \"\"\"Replace any auth_ids that have only 1 post\"\"\"\n",
    "\n",
    "    df_rand_auths = df_data[df_data['auth_id'].isin(auths_rand)]\n",
    "    for i, auth in enumerate(auths_rand):\n",
    "        if df_rand_auths[df_rand_auths['auth_id']==auth].shape[0] == 1:\n",
    "            new_auth=auth\n",
    "            while df_data[df_data['auth_id']==new_auth].shape[0] == 1:\n",
    "                new_auth = random.sample(auth_ids, 1)[0]C\n",
    "            auths_rand[i] = new_auth\n",
    "    df_rand_auths = df_data[df_data['auth_id'].isin(auths_rand)]\n",
    "    return df_rand_auths"
   ]
  },
  {
   "cell_type": "code",
   "execution_count": 210,
   "id": "psychological-membership",
   "metadata": {},
   "outputs": [],
   "source": [
    "# replace all 2 or less post authors\n",
    "def replace_2posters(auths_rand):\n",
    "    \"\"\"Replace any auth_ids that have only 1 post\"\"\"\n",
    "\n",
    "    df_rand_auths = df_data[df_data['auth_id'].isin(auths_rand)]\n",
    "    for i, auth in enumerate(auths_rand):\n",
    "        if df_rand_auths[df_rand_auths['auth_id']==auth].shape[0] <= 2:\n",
    "            new_auth=auth\n",
    "            while df_data[df_data['auth_id']==new_auth].shape[0] <= 2:\n",
    "                new_auth = random.sample(auth_ids, 1)[0]\n",
    "            auths_rand[i] = new_auth\n",
    "    df_rand_auths = df_data[df_data['auth_id'].isin(auths_rand)]\n",
    "    return df_rand_auths"
   ]
  },
  {
   "cell_type": "code",
   "execution_count": 203,
   "id": "lined-discount",
   "metadata": {},
   "outputs": [],
   "source": [
    "# Main Loop: get n random auths; run pipeline and put f1 score into dict. \n",
    "def iter_n_auths(num_auths=10, auth_clf=auth_clf3, num_iters=10):\n",
    "    \"\"\"Fit, predict and evaluate auth_clf model applied to posts for random set of n authors\"\"\"\n",
    "    times = []\n",
    "    if num_auths not in f1_dict:\n",
    "        f1_dict[num_auths] = []\n",
    "    # Number of iterations set here\n",
    "    for _ in range(num_iters):\n",
    "        start = time.time()\n",
    "        auths_rand = random.sample(auth_ids, num_auths)\n",
    "        df_rand_auths = replace_1posters(auths_rand)\n",
    "        f1 = pipeline_to_f1_scores(df_rand_auths, auth_clf3)\n",
    "        \n",
    "        f1_dict[num_auths].append((round(f1, 4), df_rand_auths.shape[0]))\n",
    "        end = time.time()\n",
    "        times.append(end-start)\n",
    "    return times"
   ]
  },
  {
   "cell_type": "code",
   "execution_count": 217,
   "id": "complimentary-change",
   "metadata": {},
   "outputs": [],
   "source": [
    "cross_val_scores = []\n",
    "\n",
    "# CROSS VAL: Main Loop: get n random auths; run pipeline and put f1 score into dict. \n",
    "def iter_n_auths(num_auths=10, auth_clf=auth_clf3, num_iters=5):\n",
    "    \"\"\"Fit, predict and evaluate auth_clf model applied to posts for random set of n authors\"\"\"\n",
    "    times = []\n",
    "#     if num_auths not in f1_dict:\n",
    "#         f1_dict[num_auths] = []\n",
    "    # Number of iterations set here\n",
    "    for _ in range(num_iters):\n",
    "        start = time.time()\n",
    "        auths_rand = random.sample(auth_ids, num_auths)\n",
    "        df_rand_auths = replace_2posters(auths_rand)\n",
    "        f1_scores = pipeline_to_f1_scores(df_rand_auths, auth_clf3, cross_val=True)\n",
    "        cross_val_scores.append(f1_scores)\n",
    "        end = time.time()\n",
    "        times.append(end-start)\n",
    "    return times"
   ]
  },
  {
   "cell_type": "code",
   "execution_count": 242,
   "id": "marine-question",
   "metadata": {},
   "outputs": [],
   "source": [
    "f_model_dict = dict()"
   ]
  },
  {
   "cell_type": "code",
   "execution_count": 245,
   "id": "decent-genius",
   "metadata": {},
   "outputs": [],
   "source": [
    "# For diff models use a diff dict Main Loop: get n random auths; run pipeline and put f1 score into dict. \n",
    "def iter_n_auths_models(model_name, clf, num_auths=20, num_iters=10):\n",
    "    \"\"\"Fit, predict and evaluate auth_clf model applied to posts for random set of n authors\"\"\"\n",
    "    if model_name not in f_model_dict:\n",
    "        f_model_dict[model_name] = []\n",
    "    # Number of iterations set here\n",
    "    for i in range(num_iters):\n",
    "        print(f'iter: {i} {model_name = }')\n",
    "        auths_rand = random.sample(auth_ids, num_auths)\n",
    "        df_rand_auths = replace_1posters(auths_rand)\n",
    "        f1 = pipeline_to_f1_scores(df_rand_auths, clf)\n",
    "        f_model_dict[model_name].append((round(f1, 4), df_rand_auths.shape[0]))\n",
    "\n"
   ]
  },
  {
   "cell_type": "markdown",
   "id": "preceding-border",
   "metadata": {
    "heading_collapsed": true
   },
   "source": [
    "## Checking time"
   ]
  },
  {
   "cell_type": "code",
   "execution_count": 218,
   "id": "selective-theology",
   "metadata": {
    "hidden": true
   },
   "outputs": [],
   "source": [
    "elapsed = iter_n_auths(20)"
   ]
  },
  {
   "cell_type": "code",
   "execution_count": 219,
   "id": "parliamentary-space",
   "metadata": {
    "hidden": true
   },
   "outputs": [
    {
     "data": {
      "text/plain": [
       "[array([0.84615385, 0.87102178, 0.83752094]),\n",
       " array([0.7253886 , 0.71354167, 0.67708333]),\n",
       " array([0.73127753, 0.75770925, 0.5840708 ]),\n",
       " array([0.75538462, 0.78890601, 0.7550077 ]),\n",
       " array([0.57391304, 0.69565217, 0.62280702])]"
      ]
     },
     "execution_count": 219,
     "metadata": {},
     "output_type": "execute_result"
    }
   ],
   "source": [
    "cross_val_scores"
   ]
  },
  {
   "cell_type": "code",
   "execution_count": 220,
   "id": "northern-cholesterol",
   "metadata": {
    "hidden": true
   },
   "outputs": [
    {
     "data": {
      "text/plain": [
       "[0.8516, 0.7053, 0.691, 0.7664, 0.6308]"
      ]
     },
     "execution_count": 220,
     "metadata": {},
     "output_type": "execute_result"
    }
   ],
   "source": [
    "[round(np.mean(cvs), 4) for cvs in cross_val_scores]"
   ]
  },
  {
   "cell_type": "code",
   "execution_count": 221,
   "id": "linear-leadership",
   "metadata": {
    "hidden": true,
    "scrolled": true
   },
   "outputs": [
    {
     "data": {
      "text/plain": [
       "([6.3159, 6.5673, 5.1933, 12.8969, 2.7877], 33.7611)"
      ]
     },
     "execution_count": 221,
     "metadata": {},
     "output_type": "execute_result"
    }
   ],
   "source": [
    "[round(tim, 4) for tim in elapsed], round(sum(elapsed), 4)"
   ]
  },
  {
   "cell_type": "code",
   "execution_count": 190,
   "id": "infectious-experiment",
   "metadata": {
    "hidden": true
   },
   "outputs": [
    {
     "name": "stdout",
     "output_type": "stream",
     "text": [
      "num=10 40\n",
      "num=20 40\n",
      "num=30 40\n",
      "num=40 50\n",
      "num=5 30\n"
     ]
    }
   ],
   "source": [
    "for num in f1_dict:\n",
    "    print(f'{num=} {len(f1_dict[num])}')"
   ]
  },
  {
   "cell_type": "markdown",
   "id": "important-poison",
   "metadata": {},
   "source": [
    "## Try using diff models"
   ]
  },
  {
   "cell_type": "code",
   "execution_count": null,
   "id": "missing-vinyl",
   "metadata": {},
   "outputs": [],
   "source": [
    "clf.predict_proba"
   ]
  },
  {
   "cell_type": "code",
   "execution_count": 250,
   "id": "varying-jewelry",
   "metadata": {
    "collapsed": true
   },
   "outputs": [
    {
     "data": {
      "text/plain": [
       "['classes_',\n",
       " 'decision_function',\n",
       " 'fit',\n",
       " 'fit_predict',\n",
       " 'fit_transform',\n",
       " 'get_params',\n",
       " 'inverse_transform',\n",
       " 'memory',\n",
       " 'n_features_in_',\n",
       " 'named_steps',\n",
       " 'predict',\n",
       " 'predict_log_proba',\n",
       " 'predict_proba',\n",
       " 'score',\n",
       " 'score_samples',\n",
       " 'set_params',\n",
       " 'steps',\n",
       " 'transform',\n",
       " 'verbose']"
      ]
     },
     "execution_count": 250,
     "metadata": {},
     "output_type": "execute_result"
    }
   ],
   "source": [
    "dirp(clf)"
   ]
  },
  {
   "cell_type": "code",
   "execution_count": 249,
   "id": "gothic-broadcast",
   "metadata": {
    "collapsed": true
   },
   "outputs": [
    {
     "name": "stdout",
     "output_type": "stream",
     "text": [
      "Variable                Type              Data/Info\n",
      "---------------------------------------------------\n",
      "BernoulliNB             ABCMeta           <class 'sklearn.naive_bayes.BernoulliNB'>\n",
      "KFold                   ABCMeta           <class 'sklearn.model_selection._split.KFold'>\n",
      "List                    _GenericAlias     typing.List\n",
      "MultinomialNB           ABCMeta           <class 'sklearn.naive_bayes.MultinomialNB'>\n",
      "NamedTuple              NamedTupleMeta    <class 'typing.NamedTuple'>\n",
      "Perceptron              ABCMeta           <class 'sklearn.linear_mo<...>._perceptron.Perceptron'>\n",
      "Pipeline                ABCMeta           <class 'sklearn.pipeline.Pipeline'>\n",
      "SGDClassifier           ABCMeta           <class 'sklearn.linear_mo<...>_gradient.SGDClassifier'>\n",
      "SVC                     ABCMeta           <class 'sklearn.svm._classes.SVC'>\n",
      "TfidfVectorizer         type              <class 'sklearn.feature_e<...>on.text.TfidfVectorizer'>\n",
      "UniversalDetector       type              <class 'chardet.universal<...>ector.UniversalDetector'>\n",
      "arr                     ndarray           20: 20 elems, type `float64`, 160 bytes\n",
      "auth10_posts            DataFrame                 auth_id  gender  <...>n\\n[153 rows x 7 columns]\n",
      "auth_clf1               Pipeline          Pipeline(steps=[('vect',\\<...>             tol=None))])\n",
      "auth_clf2               Pipeline          Pipeline(steps=[('vect',\\<...>ifier(random_state=42))])\n",
      "auth_clf3               Pipeline          Pipeline(steps=[('vect',\\<...>ifier(random_state=42))])\n",
      "auth_ids                list              n=19320\n",
      "authors                 list              n=10\n",
      "ax                      AxesSubplot       AxesSubplot(0.125,0.125;0.775x0.755)\n",
      "bs                      type              <class 'bs4.BeautifulSoup'>\n",
      "build_pipeline          function          <function build_pipeline at 0x1b42e1670>\n",
      "chardet                 module            <module 'chardet' from '/<...>ges/chardet/__init__.py'>\n",
      "clf                     Pipeline          Pipeline(steps=[('vect',\\<...> ('clf', BernoulliNB())])\n",
      "cross_val_score         function          <function cross_val_score at 0x11f9ca4c0>\n",
      "cross_val_scores        list              n=5\n",
      "cur_dir                 str               /Users/bradgreenwald/proj<...>ng/Author_ID_Live_Project\n",
      "df_allposts             DataFrame                 auth_id gender  a<...>[658805 rows x 7 columns]\n",
      "df_data                 DataFrame                 auth_id          <...>[658805 rows x 2 columns]\n",
      "df_txt                  DataFrame                                  <...>n[19320 rows x 2 columns]\n",
      "dirp                    function          <function <lambda> at 0x11ff3a160>\n",
      "elapsed                 list              n=5\n",
      "end                     float             1616174621.17585\n",
      "f1_10                   list              n=40\n",
      "f1_20                   list              n=40\n",
      "f1_30                   list              n=40\n",
      "f1_40                   list              n=50\n",
      "f1_dict                 dict              n=5\n",
      "f1_score                float64           0.7434604105571847\n",
      "f1_scores               list              n=4\n",
      "f_model_dict            dict              n=3\n",
      "fh                      BufferedReader    <_io.BufferedReader name=<...>data/df_allclean.pickle'>\n",
      "fig                     Figure            Figure(1008x576)\n",
      "glob                    module            <module 'glob' from '/Use<...>p/lib/python3.8/glob.py'>\n",
      "iter_auth_n_sets        function          <function iter_auth_n_sets at 0x1b1c5f430>\n",
      "iter_n_auths            function          <function iter_n_auths at 0x1b47aa280>\n",
      "iter_n_auths_models     function          <function iter_n_auths_models at 0x1b2a18f70>\n",
      "metrics                 module            <module 'sklearn.metrics'<...>arn/metrics/__init__.py'>\n",
      "mname                   str               bernoulli\n",
      "model                   BernoulliNB       BernoulliNB()\n",
      "model_names             list              n=3\n",
      "model_types             list              n=3\n",
      "n                       int               10\n",
      "np                      module            <module 'numpy' from '/Us<...>kages/numpy/__init__.py'>\n",
      "num                     int               5\n",
      "os                      module            <module 'os' from '/Users<...>nlp/lib/python3.8/os.py'>\n",
      "pd                      module            <module 'pandas' from '/U<...>ages/pandas/__init__.py'>\n",
      "pickle                  module            <module 'pickle' from '/U<...>lib/python3.8/pickle.py'>\n",
      "pipeline_to_f1_scores   function          <function pipeline_to_f1_scores at 0x1b42e1820>\n",
      "plt                     module            <module 'matplotlib.pyplo<...>es/matplotlib/pyplot.py'>\n",
      "post_size               list              n=30\n",
      "post_size_10            list              n=40\n",
      "post_size_20            list              n=40\n",
      "post_size_30            list              n=40\n",
      "post_size_40            list              n=50\n",
      "pp                      function          <function pprint at 0x107ad7f70>\n",
      "random                  module            <module 'random' from '/U<...>lib/python3.8/random.py'>\n",
      "re                      module            <module 're' from '/Users<...>nlp/lib/python3.8/re.py'>\n",
      "replace_1posters        function          <function replace_1posters at 0x1b17c4dc0>\n",
      "replace_2posters        function          <function replace_2posters at 0x1b47aaca0>\n",
      "sb                      module            <module 'seaborn' from '/<...>ges/seaborn/__init__.py'>\n",
      "sns                     module            <module 'seaborn' from '/<...>ges/seaborn/__init__.py'>\n",
      "start                   float             1616174621.175675\n",
      "time                    module            <module 'time' (built-in)>\n",
      "train_test_split        function          <function train_test_split at 0x11f960a60>\n",
      "tt                      list              n=7\n",
      "vals                    list              n=30\n",
      "vals_10                 list              n=40\n",
      "vals_20                 list              n=40\n",
      "vals_30                 list              n=40\n",
      "vals_40                 list              n=50\n",
      "x                       list              n=100\n",
      "xml_filenames           list              n=19320\n",
      "xml_files               dict              n=19320\n",
      "xml_path                str               /Users/bradgreenwald/proj<...>D_Live_Project/data/blogs\n"
     ]
    }
   ],
   "source": [
    "whos"
   ]
  },
  {
   "cell_type": "code",
   "execution_count": 248,
   "id": "engaged-glory",
   "metadata": {
    "collapsed": true
   },
   "outputs": [
    {
     "data": {
      "text/plain": [
       "{'svc_rbf': [(0.4156, 490),\n",
       "  (0.3765, 445),\n",
       "  (0.3541, 582),\n",
       "  (0.2182, 494),\n",
       "  (0.2901, 245),\n",
       "  (0.2895, 395),\n",
       "  (0.3857, 567),\n",
       "  (0.6002, 1207),\n",
       "  (0.2691, 351),\n",
       "  (0.2645, 371)],\n",
       " 'svc_lin': [(0.387, 637),\n",
       "  (0.2113, 452),\n",
       "  (0.5377, 1019),\n",
       "  (0.3113, 408),\n",
       "  (0.6091, 993),\n",
       "  (0.1504, 403),\n",
       "  (0.4316, 739),\n",
       "  (0.2431, 347),\n",
       "  (0.2414, 507),\n",
       "  (0.3011, 727)],\n",
       " 'bernoulli': [(0.4471, 972),\n",
       "  (0.4118, 640),\n",
       "  (0.3543, 646),\n",
       "  (0.2957, 590),\n",
       "  (0.5218, 771),\n",
       "  (0.2948, 797),\n",
       "  (0.4774, 1073),\n",
       "  (0.4107, 1040),\n",
       "  (0.2058, 424),\n",
       "  (0.4073, 592)]}"
      ]
     },
     "execution_count": 248,
     "metadata": {},
     "output_type": "execute_result"
    }
   ],
   "source": [
    "f_model_dict"
   ]
  },
  {
   "cell_type": "code",
   "execution_count": 246,
   "id": "adjustable-segment",
   "metadata": {},
   "outputs": [],
   "source": [
    "model_types = [SGDClassifier(loss='log'), SVC(kernel='rbf', probability=True), SVC(kernel='linear', probability=True), BernoulliNB()]\n",
    "model_names = ['sgd', 'svc_rbf', 'svc_lin', 'bernoulli']"
   ]
  },
  {
   "cell_type": "code",
   "execution_count": 247,
   "id": "chemical-athletics",
   "metadata": {
    "collapsed": true
   },
   "outputs": [
    {
     "name": "stdout",
     "output_type": "stream",
     "text": [
      "iter: 0 model_name = 'svc_rbf'\n",
      "iter: 1 model_name = 'svc_rbf'\n",
      "iter: 2 model_name = 'svc_rbf'\n",
      "iter: 3 model_name = 'svc_rbf'\n",
      "iter: 4 model_name = 'svc_rbf'\n",
      "iter: 5 model_name = 'svc_rbf'\n",
      "iter: 6 model_name = 'svc_rbf'\n",
      "iter: 7 model_name = 'svc_rbf'\n",
      "iter: 8 model_name = 'svc_rbf'\n",
      "iter: 9 model_name = 'svc_rbf'\n",
      "iter: 0 model_name = 'svc_lin'\n",
      "iter: 1 model_name = 'svc_lin'\n",
      "iter: 2 model_name = 'svc_lin'\n",
      "iter: 3 model_name = 'svc_lin'\n",
      "iter: 4 model_name = 'svc_lin'\n",
      "iter: 5 model_name = 'svc_lin'\n",
      "iter: 6 model_name = 'svc_lin'\n",
      "iter: 7 model_name = 'svc_lin'\n",
      "iter: 8 model_name = 'svc_lin'\n",
      "iter: 9 model_name = 'svc_lin'\n",
      "iter: 0 model_name = 'bernoulli'\n",
      "iter: 1 model_name = 'bernoulli'\n",
      "iter: 2 model_name = 'bernoulli'\n",
      "iter: 3 model_name = 'bernoulli'\n",
      "iter: 4 model_name = 'bernoulli'\n",
      "iter: 5 model_name = 'bernoulli'\n",
      "iter: 6 model_name = 'bernoulli'\n",
      "iter: 7 model_name = 'bernoulli'\n",
      "iter: 8 model_name = 'bernoulli'\n",
      "iter: 9 model_name = 'bernoulli'\n"
     ]
    }
   ],
   "source": [
    "for mname, model in zip(model_names, model_types):\n",
    "    clf = build_pipeline(model)\n",
    "    iter_n_auths_models(mname, clf)"
   ]
  },
  {
   "cell_type": "markdown",
   "id": "intensive-thesis",
   "metadata": {},
   "source": [
    "## Top 5"
   ]
  },
  {
   "cell_type": "markdown",
   "id": "material-submission",
   "metadata": {},
   "source": [
    "## modify function to yield probabilities so we can see if auth is in top 5"
   ]
  },
  {
   "cell_type": "code",
   "execution_count": 371,
   "id": "undefined-caution",
   "metadata": {},
   "outputs": [],
   "source": [
    "def pipeline_to_top5(samples, clfs):\n",
    "    \"\"\"Train and test model clfs on the data diff_samples; print f1 score, confusion matrix, and classification\n",
    "    report.  \n",
    "    \n",
    "        Args:  \n",
    "            samples: pd.DataFrame with at least 'auth_id' and 'post' columns\n",
    "            clfs: sklearn model; can be just model, or a pipeline\n",
    "        \n",
    "        Return: f1-score\n",
    "    \"\"\" \n",
    "    print(f'{samples.shape = }')\n",
    "    data = samples['clean'].values\n",
    "    labels = samples['auth_id'].values\n",
    "   \n",
    "    # Stratifying because of of widespread class imbalance\n",
    "    df_auth_train, df_auth_test, labels_train, labels_test = train_test_split(data, labels, \n",
    "                                                                          test_size=0.4, random_state=42, stratify=labels)\n",
    "    print(f'{len(labels_test) = }')\n",
    "    # Train model and get predictions\n",
    "    clfs.fit(df_auth_train, labels_train)\n",
    "    probs = clfs.predict_proba(df_auth_test)\n",
    "    print(f'{probs.shape}')\n",
    "    count = 0\n",
    "    classes = clfs.classes_\n",
    "    for pset, label in zip(probs, labels_test):\n",
    "        count += 1\n",
    "        top5 = np.argsort(pset)[-5:]\n",
    "        print(f'{label in classes[top5]} {label} {count}:  {top5}  {classes[top5]}')\n",
    "\n",
    "\n",
    "    return probs"
   ]
  },
  {
   "cell_type": "code",
   "execution_count": 372,
   "id": "consecutive-reproduction",
   "metadata": {},
   "outputs": [],
   "source": [
    "# For diff models use a diff dict Main Loop: get n random auths; run pipeline and put f1 score into dict. \n",
    "def auths_models_probs(clf, num_auths=20):\n",
    "    \"\"\"Fit, predict and evaluate auth_clf model applied to posts for random set of n authors\"\"\"\n",
    "#     if model_name not in f_model_dict:\n",
    "#         f_model_dict[model_name] = []\n",
    "   \n",
    "    auths_rand = random.sample(auth_ids, num_auths)\n",
    "    df_rand_auths = replace_1posters(auths_rand)\n",
    "    probs = pipeline_to_top5(df_rand_auths, clf)\n",
    "    return probs\n",
    "\n"
   ]
  },
  {
   "cell_type": "code",
   "execution_count": null,
   "id": "ceramic-balance",
   "metadata": {},
   "outputs": [],
   "source": []
  },
  {
   "cell_type": "code",
   "execution_count": 373,
   "id": "nutritional-basement",
   "metadata": {},
   "outputs": [],
   "source": [
    "model_types = [SGDClassifier(loss='log'), SVC(kernel='rbf', probability=True), SVC(kernel='linear', probability=True), BernoulliNB()]\n",
    "model_names = ['sgd', 'svc_rbf', 'svc_lin', 'bernoulli']"
   ]
  },
  {
   "cell_type": "code",
   "execution_count": 374,
   "id": "scenic-parker",
   "metadata": {
    "scrolled": true
   },
   "outputs": [
    {
     "name": "stdout",
     "output_type": "stream",
     "text": [
      "samples.shape = (566, 2)\n",
      "len(labels_test) = 227\n",
      "(227, 20)\n",
      "True 2066570 1:  [3 0 7 2 1]  [3456513 1788355 3545943 3368311 2066570]\n",
      "True 3368311 2:  [3 7 0 1 2]  [3456513 3545943 1788355 2066570 3368311]\n",
      "True 3850575 3:  [ 7  3  2 13  1]  [3545943 3456513 3368311 3850575 2066570]\n",
      "False 3625951 4:  [17  2  7 13  1]  [3986257 3368311 3545943 3850575 2066570]\n",
      "True 3368311 5:  [ 2  7  1 13  0]  [3368311 3545943 2066570 3850575 1788355]\n",
      "True 2066570 6:  [ 0 17  3  2  1]  [1788355 3986257 3456513 3368311 2066570]\n",
      "True 3368311 7:  [4 7 0 1 2]  [3462927 3545943 1788355 2066570 3368311]\n",
      "True 2066570 8:  [17 13  0  2  1]  [3986257 3850575 1788355 3368311 2066570]\n",
      "False 3697773 9:  [13  0  7  2  1]  [3850575 1788355 3545943 3368311 2066570]\n",
      "True 3456513 10:  [0 7 3 2 1]  [1788355 3545943 3456513 3368311 2066570]\n",
      "False 1788355 11:  [14  3  4 12  1]  [3875398 3456513 3462927 3707606 2066570]\n",
      "True 3368311 12:  [3 7 0 1 2]  [3456513 3545943 1788355 2066570 3368311]\n",
      "True 3368311 13:  [7 4 0 1 2]  [3545943 3462927 1788355 2066570 3368311]\n",
      "True 3456513 14:  [17  7  2  3  1]  [3986257 3545943 3368311 3456513 2066570]\n",
      "True 4125625 15:  [ 4  1 17 12 19]  [3462927 2066570 3986257 3707606 4125625]\n",
      "True 3545943 16:  [ 2  7 13  3  1]  [3368311 3545943 3850575 3456513 2066570]\n",
      "True 3850575 17:  [15 13  2  7  0]  [3909903 3850575 3368311 3545943 1788355]\n",
      "True 2066570 18:  [ 3 17  7  2  1]  [3456513 3986257 3545943 3368311 2066570]\n",
      "True 2066570 19:  [13  7  0  2  1]  [3850575 3545943 1788355 3368311 2066570]\n",
      "False 1788355 20:  [14  2 13  1 17]  [3875398 3368311 3850575 2066570 3986257]\n",
      "True 3368311 21:  [4 7 1 0 2]  [3462927 3545943 2066570 1788355 3368311]\n",
      "True 3456513 22:  [0 7 1 2 3]  [1788355 3545943 2066570 3368311 3456513]\n",
      "True 3986257 23:  [12  4  2 17  1]  [3707606 3462927 3368311 3986257 2066570]\n",
      "True 2066570 24:  [ 0  7  2 17  1]  [1788355 3545943 3368311 3986257 2066570]\n",
      "False 3875398 25:  [17  3  0 12  1]  [3986257 3456513 1788355 3707606 2066570]\n",
      "True 2066570 26:  [ 0 17 13  2  1]  [1788355 3986257 3850575 3368311 2066570]\n",
      "True 3545943 27:  [17  0  2  1  7]  [3986257 1788355 3368311 2066570 3545943]\n",
      "True 3850575 28:  [ 2  3 14  1 13]  [3368311 3456513 3875398 2066570 3850575]\n",
      "True 3368311 29:  [7 3 0 1 2]  [3545943 3456513 1788355 2066570 3368311]\n",
      "True 3545943 30:  [17  0  2  7  1]  [3986257 1788355 3368311 3545943 2066570]\n",
      "True 2066570 31:  [ 0 17 13  2  1]  [1788355 3986257 3850575 3368311 2066570]\n",
      "False 3697773 32:  [ 0 17 13  7  1]  [1788355 3986257 3850575 3545943 2066570]\n",
      "True 3462927 33:  [ 1  7  2 12  4]  [2066570 3545943 3368311 3707606 3462927]\n",
      "True 2066570 34:  [3 7 0 2 1]  [3456513 3545943 1788355 3368311 2066570]\n",
      "True 2066570 35:  [3 4 7 2 1]  [3456513 3462927 3545943 3368311 2066570]\n",
      "True 2066570 36:  [17  3  0  2  1]  [3986257 3456513 1788355 3368311 2066570]\n",
      "True 3462927 37:  [3 7 2 1 4]  [3456513 3545943 3368311 2066570 3462927]\n",
      "True 1788355 38:  [3 7 1 0 2]  [3456513 3545943 2066570 1788355 3368311]\n",
      "True 3368311 39:  [ 1  4  7 17  2]  [2066570 3462927 3545943 3986257 3368311]\n",
      "True 2066570 40:  [ 0 13  2  7  1]  [1788355 3850575 3368311 3545943 2066570]\n",
      "True 3545943 41:  [ 2  0 17  4  7]  [3368311 1788355 3986257 3462927 3545943]\n",
      "True 2066570 42:  [3 7 0 2 1]  [3456513 3545943 1788355 3368311 2066570]\n",
      "True 2066570 43:  [13 17  3  2  1]  [3850575 3986257 3456513 3368311 2066570]\n",
      "True 2066570 44:  [13 17  2  3  1]  [3850575 3986257 3368311 3456513 2066570]\n",
      "False 3534574 45:  [17  7  1  4  2]  [3986257 3545943 2066570 3462927 3368311]\n",
      "True 3698079 46:  [13 17  3  1 11]  [3850575 3986257 3456513 2066570 3698079]\n",
      "False 3625951 47:  [13  0  2  1  7]  [3850575 1788355 3368311 2066570 3545943]\n",
      "True 2066570 48:  [17  7  2  0  1]  [3986257 3545943 3368311 1788355 2066570]\n",
      "True 3368311 49:  [4 1 7 0 2]  [3462927 2066570 3545943 1788355 3368311]\n",
      "True 3368311 50:  [3 7 0 1 2]  [3456513 3545943 1788355 2066570 3368311]\n",
      "True 3850575 51:  [ 4  0  2 13  1]  [3462927 1788355 3368311 3850575 2066570]\n",
      "True 2066570 52:  [17  0  7  2  1]  [3986257 1788355 3545943 3368311 2066570]\n",
      "True 3545943 53:  [13  0  2  1  7]  [3850575 1788355 3368311 2066570 3545943]\n",
      "True 3545943 54:  [ 2 13  0  1  7]  [3368311 3850575 1788355 2066570 3545943]\n",
      "True 2066570 55:  [3 4 7 2 1]  [3456513 3462927 3545943 3368311 2066570]\n",
      "True 2066570 56:  [17  7  0  2  1]  [3986257 3545943 1788355 3368311 2066570]\n",
      "True 3875398 57:  [ 3 12 14 13  1]  [3456513 3707606 3875398 3850575 2066570]\n",
      "True 2066570 58:  [0 7 3 2 1]  [1788355 3545943 3456513 3368311 2066570]\n",
      "True 1788355 59:  [17  0  7  1  2]  [3986257 1788355 3545943 2066570 3368311]\n",
      "True 3698079 60:  [14  1 11 17 13]  [3875398 2066570 3698079 3986257 3850575]\n",
      "True 4125625 61:  [ 4 17 12 19  1]  [3462927 3986257 3707606 4125625 2066570]\n",
      "True 3625951 62:  [14  7  9  1 13]  [3875398 3545943 3625951 2066570 3850575]\n",
      "True 3462927 63:  [19 12 17  7  4]  [4125625 3707606 3986257 3545943 3462927]\n",
      "True 3986257 64:  [ 7  0  2  1 17]  [3545943 1788355 3368311 2066570 3986257]\n",
      "True 2066570 65:  [3 7 0 2 1]  [3456513 3545943 1788355 3368311 2066570]\n",
      "True 2066570 66:  [ 7 15 19  4  1]  [3545943 3909903 4125625 3462927 2066570]\n",
      "True 3625951 67:  [ 9  7 14 13  1]  [3625951 3545943 3875398 3850575 2066570]\n",
      "True 3462927 68:  [1 7 4 0 2]  [2066570 3545943 3462927 1788355 3368311]\n",
      "True 3986257 69:  [14  2 13 17  1]  [3875398 3368311 3850575 3986257 2066570]\n",
      "True 3462927 70:  [ 0 17  7  4  2]  [1788355 3986257 3545943 3462927 3368311]\n",
      "True 3462927 71:  [7 0 2 1 4]  [3545943 1788355 3368311 2066570 3462927]\n",
      "True 2066570 72:  [ 3  0 17  2  1]  [3456513 1788355 3986257 3368311 2066570]\n",
      "True 3462927 73:  [ 7  2 17 12  4]  [3545943 3368311 3986257 3707606 3462927]\n",
      "True 2066570 74:  [ 3 17  0  2  1]  [3456513 3986257 1788355 3368311 2066570]\n",
      "True 2066570 75:  [13  0  2  7  1]  [3850575 1788355 3368311 3545943 2066570]\n",
      "True 3368311 76:  [3 4 0 1 2]  [3456513 3462927 1788355 2066570 3368311]\n",
      "True 2066570 77:  [ 2 13 17  3  1]  [3368311 3850575 3986257 3456513 2066570]\n",
      "True 3456513 78:  [12  2 13  3  1]  [3707606 3368311 3850575 3456513 2066570]\n",
      "True 3462927 79:  [1 0 7 2 4]  [2066570 1788355 3545943 3368311 3462927]\n",
      "True 1788355 80:  [3 7 2 0 1]  [3456513 3545943 3368311 1788355 2066570]\n",
      "True 3850575 81:  [ 0  2  4  1 13]  [1788355 3368311 3462927 2066570 3850575]\n",
      "True 3875398 82:  [13 17  7 14  1]  [3850575 3986257 3545943 3875398 2066570]\n",
      "True 3850575 83:  [ 2 14  3 13  1]  [3368311 3875398 3456513 3850575 2066570]\n",
      "True 3545943 84:  [17  0 13  7  1]  [3986257 1788355 3850575 3545943 2066570]\n",
      "True 3850575 85:  [14  2  7  1 13]  [3875398 3368311 3545943 2066570 3850575]\n",
      "True 3850575 86:  [ 9  0 14  7 13]  [3625951 1788355 3875398 3545943 3850575]\n",
      "True 3545943 87:  [ 0 17  7  2  1]  [1788355 3986257 3545943 3368311 2066570]\n",
      "True 3986257 88:  [ 7  0 17  1  2]  [3545943 1788355 3986257 2066570 3368311]\n",
      "True 2066570 89:  [13  7  0  2  1]  [3850575 3545943 1788355 3368311 2066570]\n",
      "True 3368311 90:  [17  0  7  4  2]  [3986257 1788355 3545943 3462927 3368311]\n",
      "True 2066570 91:  [17  7 13  2  1]  [3986257 3545943 3850575 3368311 2066570]\n",
      "True 3368311 92:  [4 7 1 0 2]  [3462927 3545943 2066570 1788355 3368311]\n",
      "True 1788355 93:  [ 7 17  0  2  1]  [3545943 3986257 1788355 3368311 2066570]\n",
      "False 1788355 94:  [13  7  9 17  1]  [3850575 3545943 3625951 3986257 2066570]\n",
      "True 2066570 95:  [ 4 17  0  2  1]  [3462927 3986257 1788355 3368311 2066570]\n",
      "True 3368311 96:  [7 3 0 1 2]  [3545943 3456513 1788355 2066570 3368311]\n",
      "True 3545943 97:  [13  2  0  7  1]  [3850575 3368311 1788355 3545943 2066570]\n",
      "True 3707606 98:  [ 4 13 17  1 12]  [3462927 3850575 3986257 2066570 3707606]\n",
      "True 2066570 99:  [13  3 17  2  1]  [3850575 3456513 3986257 3368311 2066570]\n",
      "True 3545943 100:  [ 0 13  2  7  1]  [1788355 3850575 3368311 3545943 2066570]\n",
      "False 3697773 101:  [13  0  7  2  1]  [3850575 1788355 3545943 3368311 2066570]\n",
      "True 3545943 102:  [17  0  4  7  2]  [3986257 1788355 3462927 3545943 3368311]\n",
      "True 3545943 103:  [ 9  1 17 13  7]  [3625951 2066570 3986257 3850575 3545943]\n",
      "True 3368311 104:  [3 7 0 1 2]  [3456513 3545943 1788355 2066570 3368311]\n",
      "True 2066570 105:  [7 3 0 2 1]  [3545943 3456513 1788355 3368311 2066570]\n",
      "False 3909903 106:  [ 0 17 13  2  1]  [1788355 3986257 3850575 3368311 2066570]\n",
      "False 3462927 107:  [ 7  9 13  3 17]  [3545943 3625951 3850575 3456513 3986257]\n",
      "True 3462927 108:  [17  0  1  2  4]  [3986257 1788355 2066570 3368311 3462927]\n",
      "True 2066570 109:  [7 0 3 2 1]  [3545943 1788355 3456513 3368311 2066570]\n",
      "True 2066570 110:  [ 4 17  7  2  1]  [3462927 3986257 3545943 3368311 2066570]\n",
      "True 3368311 111:  [7 4 0 1 2]  [3545943 3462927 1788355 2066570 3368311]\n",
      "True 2066570 112:  [17  0  7  2  1]  [3986257 1788355 3545943 3368311 2066570]\n",
      "True 3545943 113:  [ 0  7 12 19  4]  [1788355 3545943 3707606 4125625 3462927]\n",
      "True 2066570 114:  [13  3 12  2  1]  [3850575 3456513 3707606 3368311 2066570]\n",
      "True 2066570 115:  [17  7  0  2  1]  [3986257 3545943 1788355 3368311 2066570]\n",
      "True 3850575 116:  [ 2  7  0  1 13]  [3368311 3545943 1788355 2066570 3850575]\n",
      "True 3545943 117:  [ 1 14  7  2 13]  [2066570 3875398 3545943 3368311 3850575]\n",
      "True 2066570 118:  [12  4  2  0  1]  [3707606 3462927 3368311 1788355 2066570]\n",
      "True 3462927 119:  [1 2 7 0 4]  [2066570 3368311 3545943 1788355 3462927]\n",
      "True 3545943 120:  [13 17  7  2  1]  [3850575 3986257 3545943 3368311 2066570]\n",
      "True 2066570 121:  [ 3 17  0  2  1]  [3456513 3986257 1788355 3368311 2066570]\n",
      "False 1788355 122:  [ 3 13 17  7  1]  [3456513 3850575 3986257 3545943 2066570]\n",
      "True 3850575 123:  [12  3  7 13  1]  [3707606 3456513 3545943 3850575 2066570]\n",
      "True 1788355 124:  [13  0  7  2  1]  [3850575 1788355 3545943 3368311 2066570]\n",
      "True 4125625 125:  [14 17 12  1 19]  [3875398 3986257 3707606 2066570 4125625]\n",
      "True 2066570 126:  [17  4  0  2  1]  [3986257 3462927 1788355 3368311 2066570]\n",
      "True 3850575 127:  [ 7  3  2  1 13]  [3545943 3456513 3368311 2066570 3850575]\n",
      "True 2066570 128:  [4 0 7 2 1]  [3462927 1788355 3545943 3368311 2066570]\n",
      "True 2066570 129:  [ 0 17  7  2  1]  [1788355 3986257 3545943 3368311 2066570]\n",
      "True 2066570 130:  [13  0  3  2  1]  [3850575 1788355 3456513 3368311 2066570]\n",
      "True 3545943 131:  [ 4 13 17  0  7]  [3462927 3850575 3986257 1788355 3545943]\n",
      "True 3986257 132:  [ 7  2 13  1 17]  [3545943 3368311 3850575 2066570 3986257]\n",
      "True 3462927 133:  [ 0  1  7 12  4]  [1788355 2066570 3545943 3707606 3462927]\n",
      "True 1788355 134:  [4 7 2 0 1]  [3462927 3545943 3368311 1788355 2066570]\n",
      "False 1788355 135:  [14 13 17  7  1]  [3875398 3850575 3986257 3545943 2066570]\n",
      "False 3566193 136:  [7 3 0 1 2]  [3545943 3456513 1788355 2066570 3368311]\n",
      "True 1788355 137:  [17 13  2  1  0]  [3986257 3850575 3368311 2066570 1788355]\n",
      "True 2066570 138:  [ 4  0 13  2  1]  [3462927 1788355 3850575 3368311 2066570]\n",
      "True 3368311 139:  [7 4 3 2 1]  [3545943 3462927 3456513 3368311 2066570]\n",
      "False 3534574 140:  [13  2  1  0  7]  [3850575 3368311 2066570 1788355 3545943]\n",
      "False 4002673 141:  [0 4 7 2 1]  [1788355 3462927 3545943 3368311 2066570]\n",
      "True 2066570 142:  [3 0 4 2 1]  [3456513 1788355 3462927 3368311 2066570]\n",
      "True 2066570 143:  [ 0  2  3 13  1]  [1788355 3368311 3456513 3850575 2066570]\n",
      "False 3850575 144:  [ 2  0  7  1 17]  [3368311 1788355 3545943 2066570 3986257]\n",
      "False 3536952 145:  [7 1 0 4 2]  [3545943 2066570 1788355 3462927 3368311]\n",
      "True 3368311 146:  [3 7 0 1 2]  [3456513 3545943 1788355 2066570 3368311]\n",
      "True 1788355 147:  [ 7 17  0  2  1]  [3545943 3986257 1788355 3368311 2066570]\n",
      "True 2066570 148:  [ 7  3 17  2  1]  [3545943 3456513 3986257 3368311 2066570]\n",
      "False 3534574 149:  [ 3  7  2 17  1]  [3456513 3545943 3368311 3986257 2066570]\n",
      "True 3545943 150:  [ 4  0  1 17  7]  [3462927 1788355 2066570 3986257 3545943]\n",
      "True 1788355 151:  [4 2 7 0 1]  [3462927 3368311 3545943 1788355 2066570]\n",
      "False 1788355 152:  [17  4  7  2  1]  [3986257 3462927 3545943 3368311 2066570]\n",
      "True 3986257 153:  [13  7  2 17  1]  [3850575 3545943 3368311 3986257 2066570]\n",
      "True 3545943 154:  [ 7 13  0  2  1]  [3545943 3850575 1788355 3368311 2066570]\n",
      "True 3545943 155:  [4 1 0 2 7]  [3462927 2066570 1788355 3368311 3545943]\n",
      "True 3850575 156:  [ 0 13  7  2  1]  [1788355 3850575 3545943 3368311 2066570]\n",
      "True 3462927 157:  [3 1 8 4 0]  [3456513 2066570 3566193 3462927 1788355]\n",
      "True 3986257 158:  [ 0 13  2 17  1]  [1788355 3850575 3368311 3986257 2066570]\n",
      "True 3850575 159:  [ 3 12  7 13  1]  [3456513 3707606 3545943 3850575 2066570]\n",
      "True 3462927 160:  [7 0 2 1 4]  [3545943 1788355 3368311 2066570 3462927]\n",
      "False 3566193 161:  [ 0  3  7 13  1]  [1788355 3456513 3545943 3850575 2066570]\n",
      "True 3707606 162:  [17  4  3  1 12]  [3986257 3462927 3456513 2066570 3707606]\n",
      "False 3850575 163:  [ 0  2 17  7  1]  [1788355 3368311 3986257 3545943 2066570]\n",
      "True 3875398 164:  [ 7 13 17 14  1]  [3545943 3850575 3986257 3875398 2066570]\n",
      "True 3456513 165:  [ 7  2 13  3  1]  [3545943 3368311 3850575 3456513 2066570]\n",
      "True 3462927 166:  [17  7  0  1  4]  [3986257 3545943 1788355 2066570 3462927]\n",
      "True 2066570 167:  [17  3  7  2  1]  [3986257 3456513 3545943 3368311 2066570]\n",
      "True 4125625 168:  [ 7 17 19  1  4]  [3545943 3986257 4125625 2066570 3462927]\n",
      "True 3707606 169:  [11  4 17 12  1]  [3698079 3462927 3986257 3707606 2066570]\n",
      "True 2066570 170:  [13  3  2 17  1]  [3850575 3456513 3368311 3986257 2066570]\n",
      "True 3850575 171:  [ 7  0  2 13  1]  [3545943 1788355 3368311 3850575 2066570]\n",
      "True 3707606 172:  [14  7 13  1 12]  [3875398 3545943 3850575 2066570 3707606]\n",
      "True 2066570 173:  [17  4  0  7  1]  [3986257 3462927 1788355 3545943 2066570]\n",
      "True 2066570 174:  [4 7 0 2 1]  [3462927 3545943 1788355 3368311 2066570]\n",
      "True 2066570 175:  [ 2 19  3 13  1]  [3368311 4125625 3456513 3850575 2066570]\n",
      "True 3462927 176:  [ 0 17  2  7  4]  [1788355 3986257 3368311 3545943 3462927]\n",
      "True 3462927 177:  [ 1  0  7 13  4]  [2066570 1788355 3545943 3850575 3462927]\n",
      "True 2066570 178:  [1 4 6 2 7]  [2066570 3462927 3536952 3368311 3545943]\n",
      "True 3545943 179:  [13 14  4  7  0]  [3850575 3875398 3462927 3545943 1788355]\n",
      "True 3368311 180:  [17  4  1  0  2]  [3986257 3462927 2066570 1788355 3368311]\n",
      "True 3850575 181:  [ 2  0  7 13  1]  [3368311 1788355 3545943 3850575 2066570]\n",
      "True 2066570 182:  [3 7 0 2 1]  [3456513 3545943 1788355 3368311 2066570]\n",
      "True 2066570 183:  [17  0  7  2  1]  [3986257 1788355 3545943 3368311 2066570]\n",
      "True 3368311 184:  [4 7 0 1 2]  [3462927 3545943 1788355 2066570 3368311]\n",
      "True 1788355 185:  [7 4 0 2 1]  [3545943 3462927 1788355 3368311 2066570]\n",
      "True 3456513 186:  [ 7 13  2  3  1]  [3545943 3850575 3368311 3456513 2066570]\n",
      "True 2066570 187:  [ 0  2 13  7  1]  [1788355 3368311 3850575 3545943 2066570]\n",
      "True 2066570 188:  [13  7  0  2  1]  [3850575 3545943 1788355 3368311 2066570]\n",
      "True 3545943 189:  [7 0 2 4 1]  [3545943 1788355 3368311 3462927 2066570]\n",
      "True 3707606 190:  [14  1  0  4 12]  [3875398 2066570 1788355 3462927 3707606]\n",
      "True 2066570 191:  [ 7 17  0  2  1]  [3545943 3986257 1788355 3368311 2066570]\n",
      "True 3462927 192:  [17  1  2  7  4]  [3986257 2066570 3368311 3545943 3462927]\n",
      "True 3986257 193:  [ 2  3  7 17  1]  [3368311 3456513 3545943 3986257 2066570]\n",
      "True 2066570 194:  [3 2 0 7 1]  [3456513 3368311 1788355 3545943 2066570]\n",
      "True 3707606 195:  [14 13 17  1 12]  [3875398 3850575 3986257 2066570 3707606]\n",
      "True 3850575 196:  [ 0  2  7  1 13]  [1788355 3368311 3545943 2066570 3850575]\n",
      "True 2066570 197:  [17  7 13  2  1]  [3986257 3545943 3850575 3368311 2066570]\n",
      "True 2066570 198:  [ 0 17  2  7  1]  [1788355 3986257 3368311 3545943 2066570]\n",
      "True 3707606 199:  [19 17  4  1 12]  [4125625 3986257 3462927 2066570 3707606]\n",
      "True 1788355 200:  [7 1 0 4 2]  [3545943 2066570 1788355 3462927 3368311]\n",
      "True 3368311 201:  [3 7 0 2 1]  [3456513 3545943 1788355 3368311 2066570]\n",
      "False 3566193 202:  [3 0 7 2 1]  [3456513 1788355 3545943 3368311 2066570]\n",
      "True 2066570 203:  [ 9  7 14 13  1]  [3625951 3545943 3875398 3850575 2066570]\n",
      "True 2066570 204:  [17  3  7  4  1]  [3986257 3456513 3545943 3462927 2066570]\n",
      "True 3456513 205:  [ 7 13  2  1  3]  [3545943 3850575 3368311 2066570 3456513]\n",
      "False 3566193 206:  [ 4  0  1  7 17]  [3462927 1788355 2066570 3545943 3986257]\n",
      "True 1788355 207:  [4 7 1 0 2]  [3462927 3545943 2066570 1788355 3368311]\n",
      "False 3961750 208:  [7 3 0 2 1]  [3545943 3456513 1788355 3368311 2066570]\n",
      "True 2066570 209:  [13  2 17  3  1]  [3850575 3368311 3986257 3456513 2066570]\n",
      "True 3986257 210:  [ 7  0  2  1 17]  [3545943 1788355 3368311 2066570 3986257]\n",
      "True 3456513 211:  [1 3 7 0 2]  [2066570 3456513 3545943 1788355 3368311]\n",
      "False 3545943 212:  [ 1  4  0 12  2]  [2066570 3462927 1788355 3707606 3368311]\n",
      "True 3368311 213:  [4 7 0 1 2]  [3462927 3545943 1788355 2066570 3368311]\n",
      "True 2066570 214:  [ 0 13  4  2  1]  [1788355 3850575 3462927 3368311 2066570]\n",
      "True 3462927 215:  [7 0 1 2 4]  [3545943 1788355 2066570 3368311 3462927]\n",
      "True 2066570 216:  [14  0  2  1 12]  [3875398 1788355 3368311 2066570 3707606]\n",
      "True 3986257 217:  [12  0  4  1 17]  [3707606 1788355 3462927 2066570 3986257]\n",
      "True 3986257 218:  [ 0  3  2 17  1]  [1788355 3456513 3368311 3986257 2066570]\n",
      "True 1788355 219:  [ 2  0  7 13  1]  [3368311 1788355 3545943 3850575 2066570]\n",
      "True 3545943 220:  [ 0 17  2  7  1]  [1788355 3986257 3368311 3545943 2066570]\n",
      "True 2066570 221:  [ 7 13  4  2  1]  [3545943 3850575 3462927 3368311 2066570]\n",
      "True 2066570 222:  [13  3  0  2  1]  [3850575 3456513 1788355 3368311 2066570]\n",
      "True 3462927 223:  [0 4 7 1 2]  [1788355 3462927 3545943 2066570 3368311]\n",
      "True 3986257 224:  [12  3 17  1  2]  [3707606 3456513 3986257 2066570 3368311]\n",
      "True 2066570 225:  [ 0 13  7  2  1]  [1788355 3850575 3545943 3368311 2066570]\n",
      "True 1788355 226:  [13  1  7  0  2]  [3850575 2066570 3545943 1788355 3368311]\n",
      "True 3707606 227:  [ 1 19 17  4 12]  [2066570 4125625 3986257 3462927 3707606]\n"
     ]
    }
   ],
   "source": [
    "all_probs = []\n",
    "for model in model_types[:1]:\n",
    "    clf = build_pipeline(model)\n",
    "    probs = auths_models_probs(clf)\n",
    "    "
   ]
  },
  {
   "cell_type": "markdown",
   "id": "collect-monday",
   "metadata": {},
   "source": [
    "A set of probs for each author"
   ]
  },
  {
   "cell_type": "code",
   "execution_count": 332,
   "id": "finished-greeting",
   "metadata": {},
   "outputs": [
    {
     "data": {
      "text/plain": [
       "(147, 20)"
      ]
     },
     "execution_count": 332,
     "metadata": {},
     "output_type": "execute_result"
    }
   ],
   "source": [
    "probs.shape"
   ]
  },
  {
   "cell_type": "code",
   "execution_count": 333,
   "id": "central-drama",
   "metadata": {},
   "outputs": [
    {
     "data": {
      "text/plain": [
       "array([0.01502251, 0.00568774, 0.02771987, 0.76945262, 0.0046942 ,\n",
       "       0.05084197, 0.01497789, 0.00857151, 0.00357136, 0.0027147 ,\n",
       "       0.02441686, 0.00146706, 0.04521718, 0.00303086, 0.00300548,\n",
       "       0.00176476, 0.00652664, 0.00773611, 0.0013878 , 0.00219286])"
      ]
     },
     "execution_count": 333,
     "metadata": {},
     "output_type": "execute_result"
    }
   ],
   "source": [
    "probs[0]"
   ]
  },
  {
   "cell_type": "code",
   "execution_count": 334,
   "id": "minus-russia",
   "metadata": {},
   "outputs": [
    {
     "data": {
      "text/plain": [
       "array([10,  2, 12,  5,  3])"
      ]
     },
     "execution_count": 334,
     "metadata": {},
     "output_type": "execute_result"
    }
   ],
   "source": [
    "# This is top 5 preds for this post\n",
    "np.argsort(probs[0])[-5:]"
   ]
  },
  {
   "cell_type": "code",
   "execution_count": null,
   "id": "alternate-title",
   "metadata": {},
   "outputs": [],
   "source": []
  },
  {
   "cell_type": "code",
   "execution_count": null,
   "id": "positive-cargo",
   "metadata": {},
   "outputs": [],
   "source": []
  },
  {
   "cell_type": "code",
   "execution_count": null,
   "id": "insured-indiana",
   "metadata": {},
   "outputs": [],
   "source": []
  },
  {
   "cell_type": "markdown",
   "id": "informational-probe",
   "metadata": {
    "heading_collapsed": true
   },
   "source": [
    "## prepare data to plot"
   ]
  },
  {
   "cell_type": "code",
   "execution_count": 192,
   "id": "political-kennedy",
   "metadata": {
    "hidden": true
   },
   "outputs": [],
   "source": [
    "# gather (f1-score, num{posts}) per author-set size\n",
    "vals_10 = list(f1_dict[10])\n",
    "vals_20 = list(f1_dict[20])\n",
    "vals_30 = list(f1_dict[30])\n",
    "vals_40 = list(f1_dict[40])\n",
    "\n",
    "# separate f1-scores and  num_posts for plotting\n",
    "f1_10 = [v[0] for v in vals_10]\n",
    "post_size_10 = [v[1] for v in vals_10]\n",
    "\n",
    "f1_20 = [v[0] for v in vals_20]\n",
    "post_size_20 = [v[1] for v in vals_20]\n",
    "\n",
    "f1_30 = [v[0] for v in vals_30]\n",
    "post_size_30 = [v[1] for v in vals_30]\n",
    "\n",
    "f1_40 = [v[0] for v in vals_40]\n",
    "post_size_40 = [v[1] for v in vals_40]"
   ]
  },
  {
   "cell_type": "code",
   "execution_count": 193,
   "id": "toxic-fields",
   "metadata": {
    "hidden": true
   },
   "outputs": [
    {
     "data": {
      "text/plain": [
       "[40, 40, 40, 50]"
      ]
     },
     "execution_count": 193,
     "metadata": {},
     "output_type": "execute_result"
    }
   ],
   "source": [
    "f1_scores = [f1_10, f1_20, f1_30, f1_40]\n",
    "[len(f1s) for f1s in f1_scores]"
   ]
  },
  {
   "cell_type": "code",
   "execution_count": 194,
   "id": "floral-attack",
   "metadata": {
    "hidden": true
   },
   "outputs": [
    {
     "data": {
      "text/plain": [
       "([], [])"
      ]
     },
     "execution_count": 194,
     "metadata": {},
     "output_type": "execute_result"
    },
    {
     "data": {
      "image/png": "[encoded data removed]",
      "text/plain": [
       "<Figure size 720x432 with 1 Axes>"
      ]
     },
     "metadata": {
      "image/png": {
       "height": 355,
       "width": 612
      }
     },
     "output_type": "display_data"
    }
   ],
   "source": [
    "# plot the f1 values\n",
    "fig, ax = plt.subplots(figsize=(10, 6))\n",
    "ax.scatter(list(range(len(f1_10))), f1_10, color='g')\n",
    "ax.scatter(list(range(len(f1_20))), f1_20, color='k')\n",
    "ax.scatter(list(range(len(f1_30))), f1_30, color='r')\n",
    "ax.scatter(list(range(len(f1_40))), f1_40, color='b')\n",
    "plt.title('f1 Scores for Random Sets of 10 Authors')\n",
    "plt.ylabel('f1 Score')\n",
    "plt.xticks([])"
   ]
  },
  {
   "cell_type": "markdown",
   "id": "dietary-richardson",
   "metadata": {
    "hidden": true
   },
   "source": [
    "Huge range - lots of variance  \n",
    "<hr>  "
   ]
  },
  {
   "cell_type": "markdown",
   "id": "handy-indiana",
   "metadata": {
    "hidden": true
   },
   "source": [
    "See if correlation b/w total num_posts and f-score"
   ]
  },
  {
   "cell_type": "code",
   "execution_count": 195,
   "id": "floppy-reception",
   "metadata": {
    "hidden": true
   },
   "outputs": [
    {
     "data": {
      "text/plain": [
       "Text(0.5, 0, 'Total Number Posts')"
      ]
     },
     "execution_count": 195,
     "metadata": {},
     "output_type": "execute_result"
    },
    {
     "data": {
      "image/png": "[encoded data removed]",
      "text/plain": [
       "<Figure size 1008x576 with 1 Axes>"
      ]
     },
     "metadata": {
      "image/png": {
       "height": 500,
       "width": 835
      }
     },
     "output_type": "display_data"
    }
   ],
   "source": [
    "fig, ax = plt.subplots(figsize=(14, 8))\n",
    "ax.scatter(post_size_10, f1_10, color='g')\n",
    "ax.scatter(post_size_20, f1_20, color='k')\n",
    "ax.scatter(post_size_30, f1_30, color='r')\n",
    "ax.scatter(post_size_40, f1_40, color='b')\n",
    "plt.title('f1 Scores v. Total Num Posts for Random Sets of 10 Authors', size=14, weight='bold')\n",
    "plt.ylabel('f1 Score', size=12, weight='bold')\n",
    "plt.xlabel('Total Number Posts', size=12, weight='bold')"
   ]
  },
  {
   "cell_type": "markdown",
   "id": "expensive-worst",
   "metadata": {
    "hidden": true
   },
   "source": [
    "Observations:  \n",
    "    - Trend as number of posts increases, f1 score increases, for all n in {10, 20, 30, 40}\n",
    "    - so this is really normalizing for num_posts/author. "
   ]
  },
  {
   "cell_type": "markdown",
   "id": "protected-browse",
   "metadata": {
    "hidden": true
   },
   "source": [
    "Other Factors to consider:   \n",
    "- some measurement of class (im)balance\n",
    "- once we use more authors, maybe normalize by posts/author?\n",
    "- or we could split posts up, e.g. by length??"
   ]
  },
  {
   "cell_type": "code",
   "execution_count": null,
   "id": "frank-welsh",
   "metadata": {
    "hidden": true
   },
   "outputs": [],
   "source": []
  }
 ],
 "metadata": {
  "kernelspec": {
   "display_name": "Python 3",
   "language": "python",
   "name": "python3"
  },
  "language_info": {
   "codemirror_mode": {
    "name": "ipython",
    "version": 3
   },
   "file_extension": ".py",
   "mimetype": "text/x-python",
   "name": "python",
   "nbconvert_exporter": "python",
   "pygments_lexer": "ipython3",
   "version": "3.8.8"
  },
  "toc": {
   "base_numbering": 1,
   "nav_menu": {},
   "number_sections": true,
   "sideBar": true,
   "skip_h1_title": false,
   "title_cell": "Table of Contents",
   "title_sidebar": "Contents",
   "toc_cell": false,
   "toc_position": {
    "height": "calc(100% - 180px)",
    "left": "10px",
    "top": "150px",
    "width": "165px"
   },
   "toc_section_display": true,
   "toc_window_display": false
  }
 },
 "nbformat": 4,
 "nbformat_minor": 5
}
